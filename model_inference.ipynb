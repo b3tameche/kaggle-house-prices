{
 "cells": [
  {
   "cell_type": "code",
   "execution_count": 1,
   "metadata": {},
   "outputs": [
    {
     "name": "stdout",
     "output_type": "stream",
     "text": [
      "/home/b3tameche/uni/ml/assignments/kaggle-house-prices/input/data_description.txt\n",
      "/home/b3tameche/uni/ml/assignments/kaggle-house-prices/input/test.csv\n",
      "/home/b3tameche/uni/ml/assignments/kaggle-house-prices/input/train.csv\n",
      "/home/b3tameche/uni/ml/assignments/kaggle-house-prices/input/sample_submission.csv\n"
     ]
    }
   ],
   "source": [
    "# This Python 3 environment comes with many helpful analytics libraries installed\n",
    "# It is defined by the kaggle/python Docker image: https://github.com/kaggle/docker-python\n",
    "# For example, here's several helpful packages to load\n",
    "\n",
    "import dagshub\n",
    "import mlflow\n",
    "\n",
    "import warnings\n",
    "import numpy as np # linear algebra\n",
    "import pandas as pd # data processing, CSV file I/O (e.g. pd.read_csv)\n",
    "\n",
    "# Input data files are available in the read-only \"../input/\" directory\n",
    "# For example, running this (by clicking run or pressing Shift+Enter) will list all files under the input directory\n",
    "\n",
    "import os\n",
    "\n",
    "cwd = os.getcwd()\n",
    "\n",
    "for dirname, _, filenames in os.walk(f'{cwd}/input'):\n",
    "  for filename in filenames:\n",
    "    print(os.path.join(dirname, filename))\n",
    "\n",
    "# You can write up to 20GB to the current directory (/kaggle/working/) that gets preserved as output when you create a version using \"Save & Run All\" \n",
    "# You can also write temporary files to /kaggle/temp/, but they won't be saved outside of the current session"
   ]
  },
  {
   "cell_type": "code",
   "execution_count": 2,
   "metadata": {},
   "outputs": [],
   "source": [
    "pd.set_option('display.max_columns', None)\n",
    "pd.set_option('display.max_rows', 15)\n",
    "pd.set_option('display.width', None)\n",
    "pd.set_option('display.expand_frame_repr', False)\n",
    "\n",
    "# to ignore warnings in cells\n",
    "warnings.filterwarnings('ignore')"
   ]
  },
  {
   "cell_type": "markdown",
   "metadata": {},
   "source": [
    "# Authorize on DagsHub"
   ]
  },
  {
   "cell_type": "code",
   "execution_count": 3,
   "metadata": {},
   "outputs": [
    {
     "data": {
      "text/html": [
       "<pre style=\"white-space:pre;overflow-x:auto;line-height:normal;font-family:Menlo,'DejaVu Sans Mono',consolas,'Courier New',monospace\">Accessing as b3tameche\n",
       "</pre>\n"
      ],
      "text/plain": [
       "Accessing as b3tameche\n"
      ]
     },
     "metadata": {},
     "output_type": "display_data"
    },
    {
     "data": {
      "text/html": [
       "<pre style=\"white-space:pre;overflow-x:auto;line-height:normal;font-family:Menlo,'DejaVu Sans Mono',consolas,'Courier New',monospace\">Initialized MLflow to track repo <span style=\"color: #008000; text-decoration-color: #008000\">\"b3tameche/kaggle-house-prices\"</span>\n",
       "</pre>\n"
      ],
      "text/plain": [
       "Initialized MLflow to track repo \u001b[32m\"b3tameche/kaggle-house-prices\"\u001b[0m\n"
      ]
     },
     "metadata": {},
     "output_type": "display_data"
    },
    {
     "data": {
      "text/html": [
       "<pre style=\"white-space:pre;overflow-x:auto;line-height:normal;font-family:Menlo,'DejaVu Sans Mono',consolas,'Courier New',monospace\">Repository b3tameche/kaggle-house-prices initialized!\n",
       "</pre>\n"
      ],
      "text/plain": [
       "Repository b3tameche/kaggle-house-prices initialized!\n"
      ]
     },
     "metadata": {},
     "output_type": "display_data"
    }
   ],
   "source": [
    "dagshub.init(repo_owner='b3tameche', repo_name='kaggle-house-prices', mlflow=True)"
   ]
  },
  {
   "cell_type": "markdown",
   "metadata": {},
   "source": [
    "# Loading the preprocessor pipeline"
   ]
  },
  {
   "cell_type": "code",
   "execution_count": 8,
   "metadata": {},
   "outputs": [],
   "source": [
    "preprocessor_name = \"Preprocessor\"\n",
    "preprocessor_version = \"1\"\n",
    "\n",
    "preprocessor_uri = f'models:/{preprocessor_name}/{preprocessor_version}'\n",
    "\n",
    "preprocessor = mlflow.sklearn.load_model(preprocessor_uri)"
   ]
  },
  {
   "cell_type": "markdown",
   "metadata": {},
   "source": [
    "# Loading the best pipeline"
   ]
  },
  {
   "cell_type": "code",
   "execution_count": 9,
   "metadata": {},
   "outputs": [],
   "source": [
    "best_pipeline_name = \"Lasso Regression Best\"\n",
    "best_pipeline_version = \"1\"\n",
    "\n",
    "best_pipeline_uri = f'models:/{best_pipeline_name}/{best_pipeline_version}'\n",
    "\n",
    "best_pipeline = mlflow.sklearn.load_model(best_pipeline_uri)"
   ]
  },
  {
   "cell_type": "markdown",
   "metadata": {},
   "source": [
    "# Submission"
   ]
  },
  {
   "cell_type": "code",
   "execution_count": 14,
   "metadata": {},
   "outputs": [
    {
     "name": "stdout",
     "output_type": "stream",
     "text": [
      "     Id      SalePrice\n",
      "0  1461  111698.148710\n",
      "1  1462  149909.330101\n",
      "2  1463  170181.031671\n",
      "3  1464  192241.535414\n",
      "4  1465  216741.340706\n"
     ]
    }
   ],
   "source": [
    "test_df = pd.read_csv(f'{cwd}/input/test.csv')\n",
    "test_df = preprocessor.transform(test_df)\n",
    "\n",
    "y_test_pred = np.exp(best_pipeline.predict(test_df))\n",
    "\n",
    "final = pd.DataFrame({\n",
    "  'Id': np.arange(1461, 1461 + len(y_test_pred)),\n",
    "  'SalePrice': y_test_pred\n",
    "})\n",
    "\n",
    "final.to_csv('submission.csv', index=False)\n",
    "\n",
    "print(final.head())"
   ]
  },
  {
   "cell_type": "markdown",
   "metadata": {},
   "source": [
    "Kaggle Score: 0.13506"
   ]
  }
 ],
 "metadata": {
  "kernelspec": {
   "display_name": ".venv",
   "language": "python",
   "name": "python3"
  },
  "language_info": {
   "codemirror_mode": {
    "name": "ipython",
    "version": 3
   },
   "file_extension": ".py",
   "mimetype": "text/x-python",
   "name": "python",
   "nbconvert_exporter": "python",
   "pygments_lexer": "ipython3",
   "version": "3.12.3"
  }
 },
 "nbformat": 4,
 "nbformat_minor": 2
}
